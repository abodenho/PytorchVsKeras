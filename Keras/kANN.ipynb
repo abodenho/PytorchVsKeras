{
 "cells": [
  {
   "cell_type": "code",
   "execution_count": 18,
   "metadata": {
    "collapsed": true
   },
   "outputs": [],
   "source": [
    "import time\n",
    "from tensorflow.keras.layers import Dense\n",
    "from tensorflow.keras.models import Sequential\n",
    "from commun.CommunFonction import *\n",
    "from commun.datasets.dataManager import *\n",
    "from commun.CONSTANTE import *"
   ]
  },
  {
   "cell_type": "markdown",
   "source": [
    "Import du dataSet et division des jeux de données"
   ],
   "metadata": {
    "collapsed": false
   }
  },
  {
   "cell_type": "code",
   "execution_count": 19,
   "outputs": [],
   "source": [
    "beginTime = time.time()\n",
    "data = DataManager(\"../commun/datasets/ANN/Churn_Modelling_traited.csv\")\n",
    "\n",
    "xTrain, yTrain = data.getTrainCSV()\n",
    "xTest, yTest = data.getTestCSV()\n"
   ],
   "metadata": {
    "collapsed": false,
    "pycharm": {
     "name": "#%%\n"
    }
   }
  },
  {
   "cell_type": "markdown",
   "source": [
    "Model"
   ],
   "metadata": {
    "collapsed": false
   }
  },
  {
   "cell_type": "markdown",
   "source": [
    "set des valeur du model"
   ],
   "metadata": {
    "collapsed": false,
    "pycharm": {
     "name": "#%% md\n"
    }
   }
  },
  {
   "cell_type": "markdown",
   "source": [
    "Création du model"
   ],
   "metadata": {
    "collapsed": false
   }
  },
  {
   "cell_type": "code",
   "execution_count": 20,
   "outputs": [
    {
     "name": "stdout",
     "output_type": "stream",
     "text": [
      "ok 1\n",
      "ok\n"
     ]
    }
   ],
   "source": [
    "def buildANN():\n",
    "\n",
    "    model = Sequential()\n",
    "    model.add(Dense(NUMBER_NEURONE_HIDDEN_LAYER_ANN,activation=FUNCTION_ACTIVATION,input_shape=(1,11)))\n",
    "    for j in range(NUMBER_HIDDEN_LAYER-1):\n",
    "        model.add(Dense(units=NUMBER_NEURONE_HIDDEN_LAYER_ANN, activation=FUNCTION_ACTIVATION))\n",
    "\n",
    "    model.add(Dense(NUMBER_NEURONE_OUTPUT,activation=FUNCTION_OUTPOUT))\n",
    "    model.compile(optimizer=OPTIMIZER,loss=FUNCTION_LOSS,metrics=METRIC)\n",
    "    return model\n",
    "\n",
    "ANN = buildANN()\n"
   ],
   "metadata": {
    "collapsed": false,
    "pycharm": {
     "name": "#%%\n"
    }
   }
  },
  {
   "cell_type": "markdown",
   "source": [
    "Entrainement"
   ],
   "metadata": {
    "collapsed": false,
    "pycharm": {
     "name": "#%% md\n"
    }
   }
  },
  {
   "cell_type": "code",
   "execution_count": 21,
   "outputs": [
    {
     "name": "stdout",
     "output_type": "stream",
     "text": [
      "Epoch 1/2\n",
      "WARNING:tensorflow:Model was constructed with shape (None, 1, 11) for input Tensor(\"dense_5_input:0\", shape=(None, 1, 11), dtype=float32), but it was called on an input with incompatible shape (32, 11).\n",
      "WARNING:tensorflow:Model was constructed with shape (None, 1, 11) for input Tensor(\"dense_5_input:0\", shape=(None, 1, 11), dtype=float32), but it was called on an input with incompatible shape (32, 11).\n",
      "211/250 [========================>.....] - ETA: 0s - loss: 0.5209 - acc: 0.7866\b\b\b\b\b\b\b\b\b\b\b\b\b\b\b\b\b\b\b\b\b\b\b\b\b\b\b\b\b\b\b\b\b\b\b\b\b\b\b\b\b\b\b\b\b\b\b\b\b\b\b\b\b\b\b\b\b\b\b\b\b\b\b\b\b\b\b\b\b\b\b\b\b\b\b\b\b\b\b\b\b\b\b\b\b\b\b\b\b\b\b\b\b\b\b\b\b\b\b\b\b\b\b\b\b\b\b\b\b\b\b\b\b\b\b\b\b\b\b\b\b\b\b\b\b\b\b\b\b\b\b\b\b\b\b\b\b\b\b\b\b\b\b\b\b\b\b\b\b\b\b\b\b\b\b\b\b\bWARNING:tensorflow:Model was constructed with shape (None, 1, 11) for input Tensor(\"dense_5_input:0\", shape=(None, 1, 11), dtype=float32), but it was called on an input with incompatible shape (None, 11).\n",
      "250/250 [==============================] - 0s 1ms/step - loss: 0.5111 - acc: 0.7899 - val_loss: 0.4805 - val_acc: 0.7920\n",
      "Epoch 2/2\n",
      "250/250 [==============================] - 0s 753us/step - loss: 0.4650 - acc: 0.7977 - val_loss: 0.4607 - val_acc: 0.7965\b\b\b\b\b\b\b\b\b\b\b\b\b\b\b\b\b\b\b\b\b\b\b\b\b\b\b\b\b\b\b\b\b\b\b\b\b\b\b\b\b\b\b\b\b\b\b\b\b\b\b\b\b\b\b\b\b\b\b\b\b\b\b\b\b\b\b\b\b\b\b\b\b\b\b\b\b\b\b\b\b\b\b\b\b\b\b\b\b\b\b\b\b\b\b\b\b\b\b\b\b\b\b\b\b\b\b\b\b\b\b\b\b\b\b\b\b\b\b\b\b\b\b\b\b\b\b\b\b\b\b\b\b\b\b\b\b\b\b\b\b\b\b\b\b\b\b\b\b\b\b\b\b\b\b\b\b\b\b\b\b\b\b\b\b\b\b\b\b\b\b\b\b\b\b\b\b\b\b\b\b\b\b\b\b\b\b\b\b\b\b\b\b\b\n"
     ]
    }
   ],
   "source": [
    "saves = ANN.fit(xTrain,\n",
    "                yTrain,\n",
    "                epochs=NUMBER_EPOCH,\n",
    "                batch_size=BATCH_SIZE,\n",
    "                validation_data=(xTest,yTest))\n",
    "\n",
    "endTime = time.time() - beginTime"
   ],
   "metadata": {
    "collapsed": false,
    "pycharm": {
     "name": "#%%\n"
    }
   }
  },
  {
   "cell_type": "markdown",
   "source": [
    "Sauvegarde des Information lier a l'apprentissage"
   ],
   "metadata": {
    "collapsed": false
   }
  },
  {
   "cell_type": "code",
   "execution_count": 22,
   "outputs": [],
   "source": [
    "writeIntoFiles(saves.history['val_acc'],saves.history['acc'],endTime,\"keras_ANN\")\n"
   ],
   "metadata": {
    "collapsed": false,
    "pycharm": {
     "name": "#%%\n"
    }
   }
  }
 ],
 "metadata": {
  "kernelspec": {
   "display_name": "Python 3",
   "language": "python",
   "name": "python3"
  },
  "language_info": {
   "codemirror_mode": {
    "name": "ipython",
    "version": 2
   },
   "file_extension": ".py",
   "mimetype": "text/x-python",
   "name": "python",
   "nbconvert_exporter": "python",
   "pygments_lexer": "ipython2",
   "version": "2.7.6"
  }
 },
 "nbformat": 4,
 "nbformat_minor": 0
}